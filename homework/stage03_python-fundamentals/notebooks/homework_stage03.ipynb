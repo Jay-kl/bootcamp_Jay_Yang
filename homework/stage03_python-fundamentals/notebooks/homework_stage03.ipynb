{
 "cells": [
  {
   "cell_type": "code",
   "execution_count": null,
   "id": "ac4951fe-ec0c-449f-95b0-b44ee2e18b20",
   "metadata": {},
   "outputs": [],
   "source": [
    "import numpy as np\n",
    "import pandas as pd\n",
    "import matplotlib.pyplot as plt\n",
    "from time import perf_counter\n"
   ]
  },
  {
   "cell_type": "code",
   "execution_count": 15,
   "id": "3843de13",
   "metadata": {},
   "outputs": [
    {
     "name": "stdout",
     "output_type": "stream",
     "text": [
      "arr: [1 2 3 4 5]\n",
      "arr + 5: [ 6  7  8  9 10]\n",
      "arr * 2: [ 2  4  6  8 10]\n",
      "arr ** 2: [ 1  4  9 16 25]\n",
      "np.sin(arr): [ 0.84147098  0.90929743  0.14112001 -0.7568025  -0.95892427]\n",
      "arr + other: [11 22 33 44 55]\n",
      "loop: 0.228s\n",
      "NumPy vectorized: 0.010s\n"
     ]
    }
   ],
   "source": [
    "# NumPy Operations\n",
    "\n",
    "# Create an array\n",
    "arr = np.arange(1, 6)  # [1 2 3 4 5]\n",
    "\n",
    "# Elementwise operations\n",
    "print(\"arr:\", arr)\n",
    "print(\"arr + 5:\", arr + 5)            # add scalar\n",
    "print(\"arr * 2:\", arr * 2)            # multiply scalar\n",
    "print(\"arr ** 2:\", arr ** 2)          # square\n",
    "print(\"np.sin(arr):\", np.sin(arr))    # elementwise ufunc\n",
    "\n",
    "# Broadcasting with another array\n",
    "other = np.array([10, 20, 30, 40, 50])\n",
    "print(\"arr + other:\", arr + other)\n",
    "\n",
    "# Compare loop vs vectorized execution.\n",
    "rng = np.random.default_rng(0)\n",
    "n = 5_000_000\n",
    "x = rng.random(n)\n",
    "\n",
    "def python_loop(x_list):\n",
    "    total = 0.0\n",
    "    for v in x_list:\n",
    "        total += v*v + 2*v + 1\n",
    "    return total\n",
    "\n",
    "def numpy_vectorized(x):\n",
    "    y = x*x + 2*x + 1\n",
    "    return np.sum(y)\n",
    "\n",
    "# Time loop\n",
    "t0 = perf_counter()\n",
    "sum_loop = python_loop(x.tolist())\n",
    "t1 = perf_counter()\n",
    "\n",
    "# Time NumPy vectorized\n",
    "t2 = perf_counter()\n",
    "sum_vec = numpy_vectorized(x)\n",
    "t3 = perf_counter()\n",
    "\n",
    "print(f\"loop: {t1 - t0:.3f}s\")\n",
    "print(f\"NumPy vectorized: {t3 - t2:.3f}s\")\n"
   ]
  },
  {
   "cell_type": "code",
   "execution_count": 16,
   "id": "38dc838b-934e-42de-ba89-b0db4c66200f",
   "metadata": {},
   "outputs": [
    {
     "name": "stdout",
     "output_type": "stream",
     "text": [
      "<class 'pandas.core.frame.DataFrame'>\n",
      "RangeIndex: 10 entries, 0 to 9\n",
      "Data columns (total 3 columns):\n",
      " #   Column    Non-Null Count  Dtype \n",
      "---  ------    --------------  ----- \n",
      " 0   category  10 non-null     object\n",
      " 1   value     10 non-null     int64 \n",
      " 2   date      10 non-null     object\n",
      "dtypes: int64(1), object(2)\n",
      "memory usage: 368.0+ bytes\n",
      "None\n",
      "  category  value        date\n",
      "0        A     10  2025-08-01\n",
      "1        B     15  2025-08-02\n",
      "2        A     12  2025-08-03\n",
      "3        B     18  2025-08-04\n",
      "4        C     25  2025-08-05\n"
     ]
    }
   ],
   "source": [
    "# Dataset Loading\n",
    "\n",
    "df = pd.read_csv(\"data/starter_data.csv\")\n",
    "print(df.info())\n",
    "print(df.head())"
   ]
  },
  {
   "cell_type": "code",
   "execution_count": 23,
   "id": "c1ef261d",
   "metadata": {},
   "outputs": [
    {
     "name": "stdout",
     "output_type": "stream",
     "text": [
      "           value\n",
      "count  10.000000\n",
      "mean   17.600000\n",
      "std     7.381659\n",
      "min    10.000000\n",
      "25%    12.250000\n",
      "50%    14.500000\n",
      "75%    23.250000\n",
      "max    30.000000\n",
      "              value\n",
      "category           \n",
      "A         11.500000\n",
      "B         15.666667\n",
      "C         27.666667\n"
     ]
    }
   ],
   "source": [
    "# Summary Statistics\n",
    "\n",
    "summary_df = df.describe()\n",
    "print(summary_df)\n",
    "\n",
    "# Group by category\n",
    "group_df = df.groupby(\"category\").mean(numeric_only=True)\n",
    "print(group_df)"
   ]
  },
  {
   "cell_type": "code",
   "execution_count": 25,
   "id": "041ce871",
   "metadata": {},
   "outputs": [],
   "source": [
    "# Save Outputs\n",
    "\n",
    "# Save summary stats to CSV\n",
    "summary_df.to_csv(\"data/processed/summary.csv\", index=False)\n",
    "\n",
    "# Bonus\n",
    "df[\"value\"].hist()\n",
    "plt.title(\"Histogram\")\n",
    "plt.savefig(\"data/processed/histogram.png\")\n",
    "plt.close()\n"
   ]
  },
  {
   "cell_type": "code",
   "execution_count": 26,
   "id": "2768ba0c",
   "metadata": {},
   "outputs": [],
   "source": [
    "# Reusable Functions\n",
    "\n",
    "def get_summary_stats(df):\n",
    "    \"\"\"Return summary statistics for a df.\"\"\"\n",
    "    return df.describe()\n"
   ]
  }
 ],
 "metadata": {
  "kernelspec": {
   "display_name": "bootcamp_env",
   "language": "python",
   "name": "python3"
  },
  "language_info": {
   "codemirror_mode": {
    "name": "ipython",
    "version": 3
   },
   "file_extension": ".py",
   "mimetype": "text/x-python",
   "name": "python",
   "nbconvert_exporter": "python",
   "pygments_lexer": "ipython3",
   "version": "3.10.18"
  }
 },
 "nbformat": 4,
 "nbformat_minor": 5
}
