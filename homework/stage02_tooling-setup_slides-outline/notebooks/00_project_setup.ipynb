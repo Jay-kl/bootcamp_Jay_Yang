{
 "cells": [
  {
   "cell_type": "code",
   "execution_count": null,
   "id": "ac25f52a-6f5b-4822-8f97-24f937b21534",
   "metadata": {},
   "outputs": [],
   "source": [
    "# Environment & Config Check"
   ]
  },
  {
   "cell_type": "code",
   "execution_count": 9,
   "id": "87817ea8-773d-4369-80e6-1795238c5d96",
   "metadata": {},
   "outputs": [
    {
     "name": "stdout",
     "output_type": "stream",
     "text": [
      "API_KEY present: True\n",
      "Numpy is working [[0]\n",
      " [1]]\n",
      "data_dir: /Users/jay/bootcamp_Jingdong_Yang/homework/stage02_tooling-setup_slides-outline/notebooks/data\n"
     ]
    }
   ],
   "source": [
    "import sys\n",
    "from pathlib import Path\n",
    "from config import load_env, get_key, data_dir\n",
    "import numpy as np\n",
    "\n",
    "# Add project root to Python path\n",
    "root_dir = Path(__file__).resolve().parents[1] if \"__file__\" in globals() else Path.cwd().parents[0]\n",
    "sys.path.append(str(root_dir / \"src\"))\n",
    " \n",
    "load_env()\n",
    "print(\"API_KEY present:\", get_key(\"API_KEY\", required=False) is not None)\n",
    "arr = np.arange(2).reshape(2, 1)\n",
    "print(\"Numpy is working\", arr)\n",
    "print(\"data_dir:\", data_dir())"
   ]
  }
 ],
 "metadata": {
  "kernelspec": {
   "display_name": "bootcamp_env",
   "language": "python",
   "name": "python3"
  },
  "language_info": {
   "codemirror_mode": {
    "name": "ipython",
    "version": 3
   },
   "file_extension": ".py",
   "mimetype": "text/x-python",
   "name": "python",
   "nbconvert_exporter": "python",
   "pygments_lexer": "ipython3",
   "version": "3.10.18"
  }
 },
 "nbformat": 4,
 "nbformat_minor": 5
}
