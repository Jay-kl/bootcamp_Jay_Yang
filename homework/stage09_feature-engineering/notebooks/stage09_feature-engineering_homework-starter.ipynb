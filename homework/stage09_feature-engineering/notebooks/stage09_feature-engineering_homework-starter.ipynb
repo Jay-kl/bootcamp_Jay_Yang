{
 "cells": [
  {
   "cell_type": "markdown",
   "metadata": {},
   "source": [
    "# Stage 09 — Homework Starter Notebook\n",
    "\n",
    "In the lecture, we learned how to create engineered features. Now it’s your turn to apply those ideas to your own project data."
   ]
  },
  {
   "cell_type": "code",
   "execution_count": 3,
   "id": "cf12f7b4",
   "metadata": {},
   "outputs": [
    {
     "data": {
      "text/html": [
       "<div>\n",
       "<style scoped>\n",
       "    .dataframe tbody tr th:only-of-type {\n",
       "        vertical-align: middle;\n",
       "    }\n",
       "\n",
       "    .dataframe tbody tr th {\n",
       "        vertical-align: top;\n",
       "    }\n",
       "\n",
       "    .dataframe thead th {\n",
       "        text-align: right;\n",
       "    }\n",
       "</style>\n",
       "<table border=\"1\" class=\"dataframe\">\n",
       "  <thead>\n",
       "    <tr style=\"text-align: right;\">\n",
       "      <th></th>\n",
       "      <th>Unnamed: 0</th>\n",
       "      <th>index</th>\n",
       "      <th>OBJECT_ID</th>\n",
       "      <th>S_INFO_WINDCODE</th>\n",
       "      <th>TRADE_DT</th>\n",
       "      <th>S_LI_INITIATIVEBUYRATE</th>\n",
       "      <th>S_LI_INITIATIVEBUYMONEY</th>\n",
       "      <th>S_LI_INITIATIVEBUYAMOUNT</th>\n",
       "      <th>S_LI_INITIATIVESELLRATE</th>\n",
       "      <th>S_LI_INITIATIVESELLMONEY</th>\n",
       "      <th>...</th>\n",
       "      <th>S_LI_LARGESELLAMOUNT</th>\n",
       "      <th>S_LI_ENTRUSTRATE</th>\n",
       "      <th>S_LI_ENTRUDIFFERAMOUNT</th>\n",
       "      <th>S_LI_ENTRUDIFFERAMONEY</th>\n",
       "      <th>S_LI_ENTRUSTBUYMONEY</th>\n",
       "      <th>S_LI_ENTRUSTSELLMONEY</th>\n",
       "      <th>S_LI_ENTRUSTBUYAMOUNT</th>\n",
       "      <th>S_LI_ENTRUSTSELLAMOUNT</th>\n",
       "      <th>OPDATE</th>\n",
       "      <th>OPMODE</th>\n",
       "    </tr>\n",
       "  </thead>\n",
       "  <tbody>\n",
       "    <tr>\n",
       "      <th>0</th>\n",
       "      <td>0</td>\n",
       "      <td>0</td>\n",
       "      <td>{7438C494-0A46-479E-B87D-3E0A26274AA1}</td>\n",
       "      <td>601788.SH</td>\n",
       "      <td>20100701</td>\n",
       "      <td>0.4373</td>\n",
       "      <td>3811.3023</td>\n",
       "      <td>24974.40</td>\n",
       "      <td>0.4397</td>\n",
       "      <td>3832.3663</td>\n",
       "      <td>...</td>\n",
       "      <td>15475.16</td>\n",
       "      <td>-41.8941</td>\n",
       "      <td>-7715.80</td>\n",
       "      <td>14.8307</td>\n",
       "      <td>358.6226</td>\n",
       "      <td>343.7919</td>\n",
       "      <td>5350.80</td>\n",
       "      <td>13066.60</td>\n",
       "      <td>2010-12-12 20:47:10</td>\n",
       "      <td>0.0</td>\n",
       "    </tr>\n",
       "    <tr>\n",
       "      <th>1</th>\n",
       "      <td>1</td>\n",
       "      <td>1</td>\n",
       "      <td>{61BB5DA3-0DE3-4236-9F7D-FFB48D1A9A9F}</td>\n",
       "      <td>601788.SH</td>\n",
       "      <td>20100702</td>\n",
       "      <td>0.3967</td>\n",
       "      <td>4583.7052</td>\n",
       "      <td>30283.01</td>\n",
       "      <td>0.4142</td>\n",
       "      <td>4785.4513</td>\n",
       "      <td>...</td>\n",
       "      <td>23127.60</td>\n",
       "      <td>-38.2387</td>\n",
       "      <td>-6139.43</td>\n",
       "      <td>274.3276</td>\n",
       "      <td>296.7584</td>\n",
       "      <td>22.4309</td>\n",
       "      <td>4958.05</td>\n",
       "      <td>11097.48</td>\n",
       "      <td>2010-12-12 20:48:06</td>\n",
       "      <td>0.0</td>\n",
       "    </tr>\n",
       "    <tr>\n",
       "      <th>2</th>\n",
       "      <td>2</td>\n",
       "      <td>2</td>\n",
       "      <td>{7B6849FC-DB52-401F-BFF9-E9B7FFA03A39}</td>\n",
       "      <td>601788.SH</td>\n",
       "      <td>20100705</td>\n",
       "      <td>0.3989</td>\n",
       "      <td>3080.9565</td>\n",
       "      <td>20644.99</td>\n",
       "      <td>0.4872</td>\n",
       "      <td>3763.2861</td>\n",
       "      <td>...</td>\n",
       "      <td>15632.22</td>\n",
       "      <td>-22.1648</td>\n",
       "      <td>-3773.28</td>\n",
       "      <td>-222.3545</td>\n",
       "      <td>98.9471</td>\n",
       "      <td>321.3016</td>\n",
       "      <td>6625.22</td>\n",
       "      <td>10398.50</td>\n",
       "      <td>2010-12-12 20:48:55</td>\n",
       "      <td>0.0</td>\n",
       "    </tr>\n",
       "    <tr>\n",
       "      <th>3</th>\n",
       "      <td>3</td>\n",
       "      <td>3</td>\n",
       "      <td>{EF1E030D-A548-4CFD-8286-79E695CAA463}</td>\n",
       "      <td>601788.SH</td>\n",
       "      <td>20100706</td>\n",
       "      <td>0.4770</td>\n",
       "      <td>4005.1611</td>\n",
       "      <td>26581.02</td>\n",
       "      <td>0.4012</td>\n",
       "      <td>3368.2731</td>\n",
       "      <td>...</td>\n",
       "      <td>11055.55</td>\n",
       "      <td>-23.7974</td>\n",
       "      <td>-3578.29</td>\n",
       "      <td>255.0756</td>\n",
       "      <td>415.3722</td>\n",
       "      <td>160.2966</td>\n",
       "      <td>5729.09</td>\n",
       "      <td>9307.38</td>\n",
       "      <td>2010-12-12 20:49:40</td>\n",
       "      <td>0.0</td>\n",
       "    </tr>\n",
       "    <tr>\n",
       "      <th>4</th>\n",
       "      <td>4</td>\n",
       "      <td>4</td>\n",
       "      <td>{99A23B9A-B155-48CE-A5D5-774A316B9739}</td>\n",
       "      <td>601788.SH</td>\n",
       "      <td>20100707</td>\n",
       "      <td>0.4613</td>\n",
       "      <td>4831.1144</td>\n",
       "      <td>31769.69</td>\n",
       "      <td>0.3378</td>\n",
       "      <td>3538.1695</td>\n",
       "      <td>...</td>\n",
       "      <td>17919.36</td>\n",
       "      <td>-24.7006</td>\n",
       "      <td>-4428.90</td>\n",
       "      <td>98.5951</td>\n",
       "      <td>145.3097</td>\n",
       "      <td>46.7145</td>\n",
       "      <td>6750.71</td>\n",
       "      <td>11179.61</td>\n",
       "      <td>2010-12-12 20:50:14</td>\n",
       "      <td>0.0</td>\n",
       "    </tr>\n",
       "  </tbody>\n",
       "</table>\n",
       "<p>5 rows × 26 columns</p>\n",
       "</div>"
      ],
      "text/plain": [
       "   Unnamed: 0  index                               OBJECT_ID S_INFO_WINDCODE  \\\n",
       "0           0      0  {7438C494-0A46-479E-B87D-3E0A26274AA1}       601788.SH   \n",
       "1           1      1  {61BB5DA3-0DE3-4236-9F7D-FFB48D1A9A9F}       601788.SH   \n",
       "2           2      2  {7B6849FC-DB52-401F-BFF9-E9B7FFA03A39}       601788.SH   \n",
       "3           3      3  {EF1E030D-A548-4CFD-8286-79E695CAA463}       601788.SH   \n",
       "4           4      4  {99A23B9A-B155-48CE-A5D5-774A316B9739}       601788.SH   \n",
       "\n",
       "   TRADE_DT  S_LI_INITIATIVEBUYRATE  S_LI_INITIATIVEBUYMONEY  \\\n",
       "0  20100701                  0.4373                3811.3023   \n",
       "1  20100702                  0.3967                4583.7052   \n",
       "2  20100705                  0.3989                3080.9565   \n",
       "3  20100706                  0.4770                4005.1611   \n",
       "4  20100707                  0.4613                4831.1144   \n",
       "\n",
       "   S_LI_INITIATIVEBUYAMOUNT  S_LI_INITIATIVESELLRATE  \\\n",
       "0                  24974.40                   0.4397   \n",
       "1                  30283.01                   0.4142   \n",
       "2                  20644.99                   0.4872   \n",
       "3                  26581.02                   0.4012   \n",
       "4                  31769.69                   0.3378   \n",
       "\n",
       "   S_LI_INITIATIVESELLMONEY  ...  S_LI_LARGESELLAMOUNT  S_LI_ENTRUSTRATE  \\\n",
       "0                 3832.3663  ...              15475.16          -41.8941   \n",
       "1                 4785.4513  ...              23127.60          -38.2387   \n",
       "2                 3763.2861  ...              15632.22          -22.1648   \n",
       "3                 3368.2731  ...              11055.55          -23.7974   \n",
       "4                 3538.1695  ...              17919.36          -24.7006   \n",
       "\n",
       "   S_LI_ENTRUDIFFERAMOUNT  S_LI_ENTRUDIFFERAMONEY  S_LI_ENTRUSTBUYMONEY  \\\n",
       "0                -7715.80                 14.8307              358.6226   \n",
       "1                -6139.43                274.3276              296.7584   \n",
       "2                -3773.28               -222.3545               98.9471   \n",
       "3                -3578.29                255.0756              415.3722   \n",
       "4                -4428.90                 98.5951              145.3097   \n",
       "\n",
       "   S_LI_ENTRUSTSELLMONEY  S_LI_ENTRUSTBUYAMOUNT  S_LI_ENTRUSTSELLAMOUNT  \\\n",
       "0               343.7919                5350.80                13066.60   \n",
       "1                22.4309                4958.05                11097.48   \n",
       "2               321.3016                6625.22                10398.50   \n",
       "3               160.2966                5729.09                 9307.38   \n",
       "4                46.7145                6750.71                11179.61   \n",
       "\n",
       "                OPDATE  OPMODE  \n",
       "0  2010-12-12 20:47:10     0.0  \n",
       "1  2010-12-12 20:48:06     0.0  \n",
       "2  2010-12-12 20:48:55     0.0  \n",
       "3  2010-12-12 20:49:40     0.0  \n",
       "4  2010-12-12 20:50:14     0.0  \n",
       "\n",
       "[5 rows x 26 columns]"
      ]
     },
     "execution_count": 3,
     "metadata": {},
     "output_type": "execute_result"
    }
   ],
   "source": [
    "import pandas as pd\n",
    "import numpy as np\n",
    "\n",
    "df = pd.read_csv('/Users/jay/bootcamp_Jingdong_Yang/project/data/high_frequency_data1.csv')\n",
    "df.head()"
   ]
  },
  {
   "cell_type": "markdown",
   "id": "c812d762",
   "metadata": {},
   "source": [
    "# Feature Engineering for High-Frequency Trading Data"
   ]
  },
  {
   "cell_type": "markdown",
   "id": "d7c77a24",
   "metadata": {},
   "source": [
    "## Feature 1: Buy-Sell Pressure Ratio\n",
    "Rationale: This normalized feature captures the relative strength of buying vs selling activity by comparing initiative buy and sell rates. Values close to +1 indicate strong buying pressure, while values close to -1 indicate strong selling pressure. This is crucial for predicting short-term price movements as it reflects market sentiment and order flow dynamics."
   ]
  },
  {
   "cell_type": "code",
   "execution_count": 8,
   "id": "cbe36ade",
   "metadata": {},
   "outputs": [
    {
     "data": {
      "text/plain": [
       "0       -0.002737\n",
       "1       -0.021581\n",
       "2       -0.099650\n",
       "3        0.086313\n",
       "4        0.154549\n",
       "           ...   \n",
       "33209   -0.181146\n",
       "33210    0.315477\n",
       "33211    0.034160\n",
       "33212    0.094501\n",
       "33213         NaN\n",
       "Name: buy_sell_pressure, Length: 33214, dtype: float64"
      ]
     },
     "execution_count": 8,
     "metadata": {},
     "output_type": "execute_result"
    }
   ],
   "source": [
    "df['buy_sell_pressure'] = (df['S_LI_INITIATIVEBUYRATE'] - df['S_LI_INITIATIVESELLRATE']) / (df['S_LI_INITIATIVEBUYRATE'] + df['S_LI_INITIATIVESELLRATE'] + 1e-8)\n",
    "df.buy_sell_pressure\n"
   ]
  },
  {
   "cell_type": "markdown",
   "id": "752e8cc1",
   "metadata": {},
   "source": [
    "# Feature 2: Large Order Imbalance\n",
    "Rationale: This feature focuses specifically on large orders, which often represent institutional trading and can have significant market impact. The imbalance between large buy and sell amounts can signal major market moves before they're reflected in price, making it valuable for predictive modeling."
   ]
  },
  {
   "cell_type": "code",
   "execution_count": 9,
   "id": "c92b97cd",
   "metadata": {},
   "outputs": [
    {
     "data": {
      "text/plain": [
       "0        0.007112\n",
       "1       -0.045796\n",
       "2       -0.280074\n",
       "3        0.087717\n",
       "4        0.093166\n",
       "           ...   \n",
       "33209   -0.469958\n",
       "33210    0.215621\n",
       "33211   -0.110329\n",
       "33212   -0.030697\n",
       "33213         NaN\n",
       "Name: large_order_imbalance, Length: 33214, dtype: float64"
      ]
     },
     "execution_count": 9,
     "metadata": {},
     "output_type": "execute_result"
    }
   ],
   "source": [
    "df['large_order_imbalance'] = (df['S_LI_LARGEBUYAMOUNT'] - df['S_LI_LARGESELLAMOUNT']) / (df['S_LI_LARGEBUYAMOUNT'] + df['S_LI_LARGESELLAMOUNT'] + 1e-8)\n",
    "df.large_order_imbalance"
   ]
  },
  {
   "cell_type": "markdown",
   "id": "1a6001cf",
   "metadata": {},
   "source": [
    "# Feature 3: Entrust Order Flow Imbalance\n",
    "Rationale: The entrust (order book) data reflects pending market intentions. Imbalances in order book flow can predict short-term price movements as they represent unfulfilled demand/supply that may drive future price action.\n"
   ]
  },
  {
   "cell_type": "code",
   "execution_count": 13,
   "id": "c30c5ef9",
   "metadata": {},
   "outputs": [
    {
     "data": {
      "text/plain": [
       "0       -0.418941\n",
       "1       -0.382387\n",
       "2       -0.221648\n",
       "3       -0.237974\n",
       "4       -0.247006\n",
       "           ...   \n",
       "33209   -0.611722\n",
       "33210   -0.415273\n",
       "33211   -0.640067\n",
       "33212   -0.712039\n",
       "33213         NaN\n",
       "Name: entrust_flow_imbalance, Length: 33214, dtype: float64"
      ]
     },
     "execution_count": 13,
     "metadata": {},
     "output_type": "execute_result"
    }
   ],
   "source": [
    "df['entrust_flow_imbalance'] = (df['S_LI_ENTRUSTBUYAMOUNT'] - df['S_LI_ENTRUSTSELLAMOUNT']) / (df['S_LI_ENTRUSTBUYAMOUNT'] + df['S_LI_ENTRUSTSELLAMOUNT'] + 1e-8)\n",
    "df.entrust_flow_imbalance"
   ]
  },
  {
   "cell_type": "markdown",
   "id": "7284b467",
   "metadata": {},
   "source": [
    "These features are particularly valuable for high-frequency trading models because they:\n",
    "1. Capture market microstructure effects\n",
    "2. Provide early signals of price direction\n",
    "3. Normalize different scales of trading activity\n",
    "4. Extracting implicit price and volume information"
   ]
  },
  {
   "cell_type": "code",
   "execution_count": 15,
   "metadata": {},
   "outputs": [
    {
     "data": {
      "image/png": "[encoded data removed]",
      "text/plain": [
       "<Figure size 1000x800 with 2 Axes>"
      ]
     },
     "metadata": {},
     "output_type": "display_data"
    },
    {
     "name": "stdout",
     "output_type": "stream",
     "text": [
      "Feature engineering completed successfully!\n",
      "Created 3 new features for high-frequency trading analysis.\n"
     ]
    }
   ],
   "source": [
    "# Validation and Final Checks\n",
    "\n",
    "# Check correlation between engineered features to avoid multicollinearity\n",
    "import matplotlib.pyplot as plt\n",
    "import seaborn as sns\n",
    "\n",
    "# Select numeric engineered features for correlation analysis\n",
    "numeric_features = ['buy_sell_pressure', 'large_order_imbalance', 'entrust_flow_imbalance']\n",
    "\n",
    "correlation_matrix = df[numeric_features].corr()\n",
    "\n",
    "plt.figure(figsize=(10, 8))\n",
    "sns.heatmap(correlation_matrix, annot=True, cmap='coolwarm', center=0, \n",
    "            square=True, fmt='.2f')\n",
    "plt.title('Correlation Matrix of Engineered Features')\n",
    "plt.tight_layout()\n",
    "plt.show()\n",
    "\n",
    "print(\"Feature engineering completed successfully!\")\n",
    "print(f\"Created 3 new features for high-frequency trading analysis.\")"
   ]
  }
 ],
 "metadata": {
  "kernelspec": {
   "display_name": "bootcamp_env",
   "language": "python",
   "name": "python3"
  },
  "language_info": {
   "codemirror_mode": {
    "name": "ipython",
    "version": 3
   },
   "file_extension": ".py",
   "mimetype": "text/x-python",
   "name": "python",
   "nbconvert_exporter": "python",
   "pygments_lexer": "ipython3",
   "version": "3.10.18"
  }
 },
 "nbformat": 4,
 "nbformat_minor": 5
}
