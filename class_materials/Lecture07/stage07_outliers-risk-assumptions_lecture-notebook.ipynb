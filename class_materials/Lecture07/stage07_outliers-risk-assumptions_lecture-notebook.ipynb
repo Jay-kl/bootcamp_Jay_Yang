{
  "cells": [
    {
      "cell_type": "markdown",
      "metadata": {},
      "source": [
        "# Stage 7: Outliers + Risk Assumptions\n",
        "Preprocessing Part II — Applied Financial Engineering Lifecycle (Aug 19, Tue)\n",
        "\n",
        "**Objectives**\n",
        "- Detect outliers (IQR, Z-score)\n",
        "- Handle outliers (remove, winsorize)\n",
        "- Run a simple sensitivity analysis and document assumptions"
      ]
    },
    {
      "cell_type": "code",
      "execution_count": null,
      "metadata": {},
      "outputs": [
        {
          "data": {
            "text/html": [
              "<div>\n",
              "<style scoped>\n",
              "    .dataframe tbody tr th:only-of-type {\n",
              "        vertical-align: middle;\n",
              "    }\n",
              "\n",
              "    .dataframe tbody tr th {\n",
              "        vertical-align: top;\n",
              "    }\n",
              "\n",
              "    .dataframe thead th {\n",
              "        text-align: right;\n",
              "    }\n",
              "</style>\n",
              "<table border=\"1\" class=\"dataframe\">\n",
              "  <thead>\n",
              "    <tr style=\"text-align: right;\">\n",
              "      <th></th>\n",
              "      <th>x</th>\n",
              "      <th>y</th>\n",
              "    </tr>\n",
              "  </thead>\n",
              "  <tbody>\n",
              "    <tr>\n",
              "      <th>0</th>\n",
              "      <td>0.000000</td>\n",
              "      <td>3.542946</td>\n",
              "    </tr>\n",
              "    <tr>\n",
              "      <th>1</th>\n",
              "      <td>0.169492</td>\n",
              "      <td>-0.033603</td>\n",
              "    </tr>\n",
              "    <tr>\n",
              "      <th>2</th>\n",
              "      <td>0.338983</td>\n",
              "      <td>1.169246</td>\n",
              "    </tr>\n",
              "    <tr>\n",
              "      <th>3</th>\n",
              "      <td>0.508475</td>\n",
              "      <td>2.148784</td>\n",
              "    </tr>\n",
              "    <tr>\n",
              "      <th>4</th>\n",
              "      <td>0.677966</td>\n",
              "      <td>0.300278</td>\n",
              "    </tr>\n",
              "  </tbody>\n",
              "</table>\n",
              "</div>"
            ],
            "text/plain": [
              "          x         y\n",
              "0  0.000000  3.542946\n",
              "1  0.169492 -0.033603\n",
              "2  0.338983  1.169246\n",
              "3  0.508475  2.148784\n",
              "4  0.677966  0.300278"
            ]
          },
          "execution_count": 2,
          "metadata": {},
          "output_type": "execute_result"
        }
      ],
      "source": [
        "# 1) Setup\n",
        "import numpy as np\n",
        "import pandas as pd\n",
        "\n",
        "# Library for Data visualization\n",
        "import matplotlib.pyplot as plt\n",
        "from sklearn.linear_model import LinearRegression\n",
        "from sklearn.metrics import mean_absolute_error, r2_score\n",
        "\n",
        "# 2) Create a sample dataset with outliers\n",
        "np.random.seed(7)\n",
        "x = np.linspace(0, 10, 60)\n",
        "y = 1.8 * x + 0.5 + np.random.normal(0, 1.8, size=x.size)\n",
        "# Inject a few extreme points\n",
        "y[8] += 20\n",
        "y[25] -= 18\n",
        "y[47] += 15\n",
        "df = pd.DataFrame({'x': x, 'y': y})\n",
        "df.head()"
      ]
    },
    {
      "cell_type": "markdown",
      "metadata": {},
      "source": [
        "## 2) Quick Visual Check"
      ]
    },
    {
      "cell_type": "code",
      "execution_count": null,
      "metadata": {},
      "outputs": [
        {
          "data": {
            "image/png": "[encoded data removed]",
            "text/plain": [
              "<Figure size 640x480 with 1 Axes>"
            ]
          },
          "metadata": {},
          "output_type": "display_data"
        }
      ],
      "source": [
        "# Visualize potential outliers\n",
        "plt.figure()\n",
        "plt.scatter(df['x'], df['y'])\n",
        "plt.title('Scatter with Potential Outliers')\n",
        "plt.xlabel('x')\n",
        "plt.ylabel('y')\n",
        "plt.show()"
      ]
    },
    {
      "cell_type": "markdown",
      "metadata": {},
      "source": [
        "## 3) Detecting Outliers — IQR\n",
        "**Idea:** Flag points outside Q1 − 1.5·IQR and Q3 + 1.5·IQR."
      ]
    },
    {
      "cell_type": "code",
      "execution_count": 6,
      "metadata": {},
      "outputs": [
        {
          "data": {
            "text/plain": [
              "outlier_iqr\n",
              "False    58\n",
              "True      2\n",
              "Name: count, dtype: int64"
            ]
          },
          "execution_count": 6,
          "metadata": {},
          "output_type": "execute_result"
        }
      ],
      "source": [
        "# Function to detect outliers using IQR (IQR is Interquartile Range)\n",
        "def detect_outliers_iqr(series: pd.Series, k: float = 1.5) -> pd.Series:\n",
        "    \"\"\"Return boolean mask where True indicates an outlier by IQR rule.\n",
        "    Parameters\n",
        "    ----------\n",
        "    series : pd.Series\n",
        "        Numeric series to evaluate.\n",
        "    k : float\n",
        "        Multiplier for IQR to set fences (default 1.5).\n",
        "    \"\"\"\n",
        "    q1 = series.quantile(0.25)\n",
        "    q3 = series.quantile(0.75)\n",
        "    iqr = q3 - q1\n",
        "    lower = q1 - k * iqr\n",
        "    upper = q3 + k * iqr\n",
        "    return (series < lower) | (series > upper)\n",
        "\n",
        "df['outlier_iqr'] = detect_outliers_iqr(df['y'])\n",
        "df['outlier_iqr'].value_counts()"
      ]
    },
    {
      "cell_type": "code",
      "execution_count": 7,
      "metadata": {},
      "outputs": [
        {
          "data": {
            "image/png": "[encoded data removed]",
            "text/plain": [
              "<Figure size 640x480 with 1 Axes>"
            ]
          },
          "metadata": {},
          "output_type": "display_data"
        }
      ],
      "source": [
        "# Visualize potential outliers with boxplot template\n",
        "plt.figure()\n",
        "plt.boxplot(df['y'], vert=True)\n",
        "plt.title('Boxplot of y (with potential outliers)')\n",
        "plt.ylabel('y')\n",
        "plt.show()"
      ]
    },
    {
      "cell_type": "markdown",
      "metadata": {},
      "source": [
        "## 4) Detecting Outliers — Z-score\n",
        "**Idea:** Flag points where |z| > threshold (commonly 3).\n",
        "Note: Z-score assumes approximate normality; heavy tails may cause over-flagging."
      ]
    },
    {
      "cell_type": "code",
      "execution_count": null,
      "metadata": {},
      "outputs": [
        {
          "data": {
            "text/html": [
              "<div>\n",
              "<style scoped>\n",
              "    .dataframe tbody tr th:only-of-type {\n",
              "        vertical-align: middle;\n",
              "    }\n",
              "\n",
              "    .dataframe tbody tr th {\n",
              "        vertical-align: top;\n",
              "    }\n",
              "\n",
              "    .dataframe thead th {\n",
              "        text-align: right;\n",
              "    }\n",
              "</style>\n",
              "<table border=\"1\" class=\"dataframe\">\n",
              "  <thead>\n",
              "    <tr style=\"text-align: right;\">\n",
              "      <th>outlier_z</th>\n",
              "      <th>False</th>\n",
              "      <th>True</th>\n",
              "    </tr>\n",
              "    <tr>\n",
              "      <th>outlier_iqr</th>\n",
              "      <th></th>\n",
              "      <th></th>\n",
              "    </tr>\n",
              "  </thead>\n",
              "  <tbody>\n",
              "    <tr>\n",
              "      <th>False</th>\n",
              "      <td>58</td>\n",
              "      <td>0</td>\n",
              "    </tr>\n",
              "    <tr>\n",
              "      <th>True</th>\n",
              "      <td>0</td>\n",
              "      <td>2</td>\n",
              "    </tr>\n",
              "  </tbody>\n",
              "</table>\n",
              "</div>"
            ],
            "text/plain": [
              "outlier_z    False  True \n",
              "outlier_iqr              \n",
              "False           58      0\n",
              "True             0      2"
            ]
          },
          "execution_count": 8,
          "metadata": {},
          "output_type": "execute_result"
        }
      ],
      "source": [
        "#detect outliers using z-score\n",
        "def detect_outliers_zscore(series: pd.Series, threshold: float = 3.0) -> pd.Series:\n",
        "    \"\"\"Return boolean mask where True indicates |z| > threshold.\"\"\"\n",
        "    mu = series.mean()\n",
        "    sigma = series.std(ddof=0)\n",
        "    z = (series - mu) / (sigma if sigma != 0 else 1.0)\n",
        "    return z.abs() > threshold\n",
        "\n",
        "df['outlier_z'] = detect_outliers_zscore(df['y'], threshold=3.0)\n",
        "pd.crosstab(df['outlier_iqr'], df['outlier_z'])"
      ]
    },
    {
      "cell_type": "markdown",
      "metadata": {},
      "source": [
        "## 5) Handling Options\n",
        "We will compare three treatments: **All data**, **Filtered (remove IQR outliers)**, and **Winsorized** (optional)."
      ]
    },
    {
      "cell_type": "code",
      "execution_count": null,
      "metadata": {},
      "outputs": [],
      "source": [
        "def winsorize_series(series: pd.Series, lower: float = 0.05, upper: float = 0.95) -> pd.Series:\n",
        "    \"\"\"Return a winsorized copy of the series, clipping to given quantiles.\"\"\"\n",
        "    lo = series.quantile(lower)\n",
        "    hi = series.quantile(upper)\n",
        "    return series.clip(lower=lo, upper=hi)\n",
        "\n",
        "df_filtered = df.loc[~df['outlier_iqr'], ['x', 'y']].reset_index(drop=True)\n",
        "df_w = df.copy()\n",
        "df_w['y_w'] = winsorize_series(df_w['y'], lower=0.05, upper=0.95)"
      ]
    },
    {
      "cell_type": "code",
      "execution_count": null,
      "metadata": {},
      "outputs": [],
      "source": [
        "plt.figure()\n",
        "plt.hist(df['y'], bins=20, alpha=0.7)\n",
        "plt.title('Histogram of y (original)')\n",
        "plt.xlabel('y')\n",
        "plt.ylabel('count')\n",
        "plt.show()\n",
        "\n",
        "plt.figure()\n",
        "plt.hist(df_w['y_w'], bins=20, alpha=0.7)\n",
        "plt.title('Histogram of y (winsorized)')\n",
        "plt.xlabel('y_w')\n",
        "plt.ylabel('count')\n",
        "plt.show()"
      ]
    },
    {
      "cell_type": "markdown",
      "metadata": {},
      "source": [
        "## 6) Sensitivity Analysis — Linear Regression\n",
        "We compare slope, intercept, R², and MAE across treatments."
      ]
    },
    {
      "cell_type": "code",
      "execution_count": null,
      "metadata": {},
      "outputs": [],
      "source": [
        "def fit_and_metrics(X: np.ndarray, y: np.ndarray) -> dict:\n",
        "    model = LinearRegression()\n",
        "    model.fit(X, y)\n",
        "    y_hat = model.predict(X)\n",
        "    return {\n",
        "        'slope': float(model.coef_[0]),\n",
        "        'intercept': float(model.intercept_),\n",
        "        'r2': float(r2_score(y, y_hat)),\n",
        "        'mae': float(mean_absolute_error(y, y_hat))\n",
        "    }\n",
        "\n",
        "# All data\n",
        "m_all = fit_and_metrics(df[['x']].to_numpy(), df['y'].to_numpy())\n",
        "# Filtered (no IQR outliers)\n",
        "m_flt = fit_and_metrics(df_filtered[['x']].to_numpy(), df_filtered['y'].to_numpy())\n",
        "# Winsorized\n",
        "m_win = fit_and_metrics(df[['x']].to_numpy(), df_w['y_w'].to_numpy())\n",
        "\n",
        "sens_table = pd.DataFrame([m_all, m_flt, m_win], index=['all', 'filtered_iqr', 'winsorized'])\n",
        "sens_table"
      ]
    },
    {
      "cell_type": "code",
      "execution_count": null,
      "metadata": {},
      "outputs": [],
      "source": [
        "plt.figure()\n",
        "plt.scatter(df['x'], df['y'], label='all')\n",
        "x_line = np.linspace(df['x'].min(), df['x'].max(), 100).reshape(-1,1)\n",
        "def line(slope, intercept):\n",
        "    return slope * x_line[:,0] + intercept\n",
        "plt.plot(x_line, line(m_all['slope'], m_all['intercept']), label='fit: all')\n",
        "plt.plot(x_line, line(m_flt['slope'], m_flt['intercept']), label='fit: filtered')\n",
        "plt.plot(x_line, line(m_win['slope'], m_win['intercept']), label='fit: winsorized')\n",
        "plt.legend()\n",
        "plt.title('Regression Fits Across Treatments')\n",
        "plt.xlabel('x')\n",
        "plt.ylabel('y')\n",
        "plt.show()"
      ]
    },
    {
      "cell_type": "markdown",
      "metadata": {},
      "source": [
        "### Save Sensitivity Table (Reproducibility)"
      ]
    },
    {
      "cell_type": "code",
      "execution_count": null,
      "metadata": {},
      "outputs": [],
      "source": [
        "sens_table.to_csv('sens_stage07_demo.csv', index=True)\n",
        "sens_table"
      ]
    },
    {
      "cell_type": "markdown",
      "metadata": {},
      "source": [
        "## 7) Document Assumptions & Risks\n",
        "- IQR multiplier k=1.5; Z threshold=3.0; winsor quantiles 5%/95%.\n",
        "- Data may be heavy-tailed; Z-score may over-flag.\n",
        "- Removing outliers may discard rare but meaningful events (e.g., crash days).\n",
        "- Always report thresholds and provide results **with and without** outliers."
      ]
    },
    {
      "cell_type": "markdown",
      "metadata": {},
      "source": [
        "## 8) Wrap-Up\n",
        "**Takeaways**\n",
        "- Outlier definitions and treatments are **assumption-dependent**.\n",
        "- Test sensitivity; compare multiple treatments.\n",
        "- Document decisions for reproducibility."
      ]
    }
  ],
  "metadata": {
    "kernelspec": {
      "display_name": "base",
      "language": "python",
      "name": "python3"
    },
    "language_info": {
      "codemirror_mode": {
        "name": "ipython",
        "version": 3
      },
      "file_extension": ".py",
      "mimetype": "text/x-python",
      "name": "python",
      "nbconvert_exporter": "python",
      "pygments_lexer": "ipython3",
      "version": "3.13.5"
    }
  },
  "nbformat": 4,
  "nbformat_minor": 5
}
