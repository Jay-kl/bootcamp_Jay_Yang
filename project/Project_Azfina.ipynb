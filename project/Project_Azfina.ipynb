{
 "cells": [
  {
   "cell_type": "code",
   "execution_count": 5,
   "id": "3b84157c-8c81-4586-9fd4-e5413da97cce",
   "metadata": {},
   "outputs": [
    {
     "name": "stdout",
     "output_type": "stream",
     "text": [
      "✅ Data from Alpha Vantage API\n",
      "         date      Open      High       Low     Close     Volume\n",
      "0  2025-08-14  234.0550  235.1200  230.8500  232.7800   51916275\n",
      "1  2025-08-13  231.0700  235.0000  230.4300  233.3300   69878546\n",
      "2  2025-08-12  228.0050  230.8000  227.0700  229.6500   55672301\n",
      "3  2025-08-11  227.9200  229.5600  224.7600  227.1800   61806132\n",
      "4  2025-08-08  220.8300  231.0000  219.2500  229.3500  113853967\n"
     ]
    }
   ],
   "source": [
    "\n",
    "import requests\n",
    "from bs4 import BeautifulSoup\n",
    "import pandas as pd\n",
    "\n",
    "# --- SETTINGS ---\n",
    "symbol = \"AAPL\"  # Example: Apple\n",
    "ALPHA_KEY = \"YOUR_ALPHA_VANTAGE_API_KEY\"\n",
    "\n",
    "# --- TRY ALPHA VANTAGE FIRST ---\n",
    "try:\n",
    "    url = f\"https://www.alphavantage.co/query?function=TIME_SERIES_DAILY&symbol={symbol}&apikey={ALPHA_KEY}\"\n",
    "    r = requests.get(url, timeout=20)\n",
    "    r.raise_for_status()\n",
    "    js = r.json()\n",
    "\n",
    "    key = [k for k in js.keys() if \"Time Series\" in k]\n",
    "    assert key, f\"Unexpected response keys: {list(js.keys())}\"\n",
    "\n",
    "    series = js[key[0]]\n",
    "    df_api = (\n",
    "        pd.DataFrame(series).T\n",
    "        .rename_axis(\"date\")\n",
    "        .reset_index()\n",
    "        .rename(columns={\n",
    "            \"1. open\": \"Open\",\n",
    "            \"2. high\": \"High\",\n",
    "            \"3. low\": \"Low\",\n",
    "            \"4. close\": \"Close\",\n",
    "            \"5. volume\": \"Volume\"\n",
    "        })\n",
    "    )\n",
    "\n",
    "    print(\"✅ Data from Alpha Vantage API\")\n",
    "    print(df_api.head())\n",
    "\n",
    "except Exception as e:\n",
    "    print(\"⚠ API failed, falling back to Yahoo Finance scrape:\", e)\n",
    "\n",
    "    # --- FALLBACK: SCRAPE YAHOO FINANCE ---\n",
    "    scrape_url = f\"https://finance.yahoo.com/quote/{symbol}/history\"\n",
    "    headers = {\"User-Agent\": \"Mozilla/5.0\"}\n",
    "    \n",
    "    resp = requests.get(scrape_url, headers=headers, timeout=20)\n",
    "    resp.raise_for_status()\n",
    "    soup = BeautifulSoup(resp.text, \"html.parser\")\n",
    "    table = soup.find(\"table\")\n",
    "    \n",
    "    rows = []\n",
    "    for tr in table.find_all(\"tr\"):\n",
    "        cells = [td.get_text(strip=True) for td in tr.find_all([\"td\", \"th\"])]\n",
    "        if cells:\n",
    "            rows.append(cells)\n",
    "    \n",
    "    header, *data = rows\n",
    "    df_scrape = pd.DataFrame(data, columns=header)\n",
    "\n",
    "    print(\"✅ Data from Yahoo Finance scraping\")\n",
    "    print(df_scrape.head())\n"
   ]
  },
  {
   "cell_type": "code",
   "execution_count": null,
   "id": "eb63f10b-3db3-45a5-b644-304cd0c91ef5",
   "metadata": {},
   "outputs": [],
   "source": []
  },
  {
   "cell_type": "code",
   "execution_count": null,
   "id": "70c0dfc6-3faa-454b-8a15-4c9ac0759ed9",
   "metadata": {},
   "outputs": [],
   "source": []
  }
 ],
 "metadata": {
  "kernelspec": {
   "display_name": "Python 3 (ipykernel)",
   "language": "python",
   "name": "python3"
  },
  "language_info": {
   "codemirror_mode": {
    "name": "ipython",
    "version": 3
   },
   "file_extension": ".py",
   "mimetype": "text/x-python",
   "name": "python",
   "nbconvert_exporter": "python",
   "pygments_lexer": "ipython3",
   "version": "3.10.18"
  }
 },
 "nbformat": 4,
 "nbformat_minor": 5
}
