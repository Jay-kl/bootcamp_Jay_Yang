{
 "cells": [
  {
   "cell_type": "code",
   "execution_count": null,
   "id": "59386298-ca4d-42c6-913e-7990b758f43b",
   "metadata": {},
   "outputs": [],
   "source": [
    "import numpy as np\n",
    "import pandas as pd\n",
    "import matplotlib.pyplot as plt\n",
    "from datetime import datetime"
   ]
  },
  {
   "cell_type": "code",
   "execution_count": null,
   "id": "d98d4ecb-f195-486b-acd4-dd5f3c6e688b",
   "metadata": {},
   "outputs": [],
   "source": [
    "#Wrap Up: Function and Decorator"
   ]
  },
  {
   "cell_type": "code",
   "execution_count": null,
   "id": "ebd344e9-f068-4d93-9e53-68fd58fba738",
   "metadata": {},
   "outputs": [],
   "source": [
    "def calc_mean_std(lst):\n",
    "    arr = np.array(lst)\n",
    "    return arr.mean(), arr.std()"
   ]
  },
  {
   "cell_type": "code",
   "execution_count": 2,
   "id": "c7474668-5860-42cc-b49a-9f0aa8f2832a",
   "metadata": {},
   "outputs": [
    {
     "name": "stdout",
     "output_type": "stream",
     "text": [
      "1 2 3\n",
      "1 2 3\n"
     ]
    }
   ],
   "source": [
    "temp = (1,2,3)\n",
    "print (*temp)\n",
    "print (1,2,3)"
   ]
  },
  {
   "cell_type": "code",
   "execution_count": 9,
   "id": "d043c1a6-1265-4c7c-b313-8d8261049d8e",
   "metadata": {},
   "outputs": [
    {
     "name": "stdout",
     "output_type": "stream",
     "text": [
      "2\n",
      "3\n",
      "4\n",
      "5\n"
     ]
    }
   ],
   "source": [
    "def my_func(y,*arg):\n",
    "    for i in arg:\n",
    "        print (i)\n",
    "\n",
    "my_func(1,2,3,4,5)"
   ]
  },
  {
   "cell_type": "code",
   "execution_count": 29,
   "id": "97f756f3-4439-486e-9c23-d16fbfdbd2a9",
   "metadata": {},
   "outputs": [
    {
     "name": "stdout",
     "output_type": "stream",
     "text": [
      "dict_keys(['stock', 'quantity', 'price'])\n",
      "dict_values(['appl', 500, 150])\n",
      "{'stock': 'bootcamp', 'quantity': 160, 'price': 0}\n"
     ]
    }
   ],
   "source": [
    "#create a dictionary\n",
    "my_stock = {\"stock\" : \"appl\", \"quantity\":500, \"price\" : 150}\n",
    "\n",
    "print (my_stock.keys())\n",
    "print (my_stock.values())\n",
    "{**my_stock}\n",
    "\n",
    "#create a dictionary 2\n",
    "my_stock2 = {\"stock\" : \"bootcamp\", \"quantity\":160, \"price\" : 0}\n",
    "\n",
    "print(my_stock2)"
   ]
  },
  {
   "cell_type": "code",
   "execution_count": 18,
   "id": "264c7a4b-2e63-4c5e-90f2-2fb63e28c24a",
   "metadata": {},
   "outputs": [
    {
     "name": "stdout",
     "output_type": "stream",
     "text": [
      "3000\n",
      "3000\n"
     ]
    }
   ],
   "source": [
    "def my_func(stock,quantity, price):\n",
    "    print (price)\n",
    "\n",
    "my_func(\"appl\",2,3000)\n",
    "\n",
    "my_func(stock=\"appl\", quantity = 2, price=3000)"
   ]
  },
  {
   "cell_type": "code",
   "execution_count": 31,
   "id": "66f0bb90-41ec-4593-9651-03513d7d2feb",
   "metadata": {},
   "outputs": [
    {
     "name": "stdout",
     "output_type": "stream",
     "text": [
      "{'stock': 'appl', 'quantity': 500, 'price': 150}\n"
     ]
    }
   ],
   "source": [
    "def my_func (**args):\n",
    "    print (args)\n",
    "\n",
    "inputs = {\"stock\" : \"appl\", \"quantity\":500, \"price\" : 150}\n",
    "\n",
    "my_func(**inputs)"
   ]
  },
  {
   "cell_type": "code",
   "execution_count": 48,
   "id": "fcc2aaf1-22ef-4d92-b6f2-d3b408de7157",
   "metadata": {},
   "outputs": [
    {
     "name": "stdout",
     "output_type": "stream",
     "text": [
      "1\n",
      "(2, 3)\n"
     ]
    }
   ],
   "source": [
    "def my_func(*args):\n",
    "    print (args)\n",
    "    \n",
    "def my_debug (f):\n",
    "    def new_func(*arg):\n",
    "        print(arg[0])\n",
    "        f(*arg[1:])\n",
    "    return new_func\n",
    "\n",
    "a_func = my_debug(my_func)\n",
    "a_func(1,2,3)"
   ]
  },
  {
   "cell_type": "code",
   "execution_count": 37,
   "id": "9d823f75-9647-49c5-af5b-fb1b0a774b07",
   "metadata": {},
   "outputs": [],
   "source": [
    "def log_call (func):\n",
    "    def wrappers(*args, **kwargs):\n",
    "        print (f\"Function {func._name_} called at {datetime.now()}\")\n",
    "        return func(*args, **kwargs)\n",
    "    return wrappers"
   ]
  },
  {
   "cell_type": "code",
   "execution_count": null,
   "id": "b19a619f-7cb9-4642-81d1-68a210014ac7",
   "metadata": {},
   "outputs": [],
   "source": []
  }
 ],
 "metadata": {
  "kernelspec": {
   "display_name": "Python 3 (ipykernel)",
   "language": "python",
   "name": "python3"
  },
  "language_info": {
   "codemirror_mode": {
    "name": "ipython",
    "version": 3
   },
   "file_extension": ".py",
   "mimetype": "text/x-python",
   "name": "python",
   "nbconvert_exporter": "python",
   "pygments_lexer": "ipython3",
   "version": "3.10.18"
  }
 },
 "nbformat": 4,
 "nbformat_minor": 5
}
